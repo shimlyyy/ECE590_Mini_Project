{
 "cells": [
  {
   "cell_type": "code",
   "execution_count": 1,
   "metadata": {
    "ExecuteTime": {
     "end_time": "2019-03-17T20:47:23.520401Z",
     "start_time": "2019-03-17T20:47:22.941765Z"
    }
   },
   "outputs": [],
   "source": [
    "    import numpy as np\n",
    "    import math as math\n",
    "    import pandas as pd\n",
    "    import matplotlib.pyplot as plt\n",
    "    from numpy.random import rand, randn\n",
    "    from scipy.linalg import inv, svd\n",
    "    from scipy.optimize import linprog\n",
    "    from tqdm import tqdm_notebook as tqdm\n",
    "    def null_space(A, rcond=None):\n",
    "        u, s, vh = svd(A, full_matrices=True)\n",
    "        M, N = u.shape[0], vh.shape[1]\n",
    "        if rcond is None:\n",
    "            rcond = np.finfo(s.dtype).eps * max(M, N)\n",
    "        tol = np.amax(s) * rcond\n",
    "        num = np.sum(s > tol, dtype=int)\n",
    "        Q = vh[num:,:].T.conj()\n",
    "        return Q"
   ]
  },
  {
   "cell_type": "code",
   "execution_count": 2,
   "metadata": {
    "ExecuteTime": {
     "end_time": "2019-03-17T20:47:23.700199Z",
     "start_time": "2019-03-17T20:47:23.691668Z"
    }
   },
   "outputs": [],
   "source": [
    " def altproj(A, B, v0, n):\n",
    "    \n",
    "    \"    Arguments:\\n\",\n",
    "    \"        A {numpy.ndarray} -- matrix whose column span is vector space U\\n\",\n",
    "    \"        B {numpy.ndarray} -- matrix whose column span is vector space W\\n\",\n",
    "    \"        v0 {numpy.ndarray} -- initialization vector\\n\",\n",
    "    \"        n {int} -- number of sweeps for alternating projection\\n\",\n",
    "    \"    Returns:\\n\",\n",
    "    \"        v {numpy.ndarray} -- the output after 2n steps of alternating projection\\n\",\n",
    "    \"        err {numpy.ndarray} -- the error after each full pass\\n\",\n",
    "    \"    \\\"\\\"\\\"\\n\",\n",
    "    \"    # Construct projection matrix\\n\",\n",
    "    PU = np.dot(A,np.dot(inv(np.dot(A.T,A)),A.T))\n",
    "    PW = np.dot(B,np.dot(inv(np.dot(B.T,B)),B.T))\n",
    "    \"    # Compute the exact solution\\n\",\n",
    "    basis_UintW = np.hstack([A, B]) @ null_space(np.hstack([A, -B])) \n",
    "    P_UintW =  np.dot(basis_UintW,np.dot(inv(np.dot(basis_UintW.T,basis_UintW)),basis_UintW.T))\n",
    "    v0_hat=np.dot(P_UintW,v0)\n",
    "    \"    # Apply n sweeps of alternating projection\\n\",\n",
    "    v, err = v0, np.zeros(n)\n",
    "    for t in tqdm(range(2 * n), total=2 * n, leave=False):\n",
    "        if (t + 1) % 2 == 0:\n",
    "            v = np.dot(PU, v) \n",
    "        else:\n",
    "            v=np.dot(PW, v)\n",
    "        if (t + 1) % 2 == 0:\n",
    "            err[t // 2] =np.linalg.norm(v - v0_hat)\n",
    "    return v, err"
   ]
  },
  {
   "cell_type": "code",
   "execution_count": 3,
   "metadata": {
    "ExecuteTime": {
     "end_time": "2018-12-14T21:05:32.331084Z",
     "start_time": "2018-12-14T21:05:31.863983Z"
    }
   },
   "outputs": [
    {
     "data": {
      "application/vnd.jupyter.widget-view+json": {
       "model_id": "",
       "version_major": 2,
       "version_minor": 0
      },
      "text/plain": [
       "HBox(children=(IntProgress(value=0, max=40), HTML(value='')))"
      ]
     },
     "metadata": {},
     "output_type": "display_data"
    },
    {
     "name": "stdout",
     "output_type": "stream",
     "text": [
      "\r"
     ]
    },
    {
     "data": {
      "text/plain": [
       "[<matplotlib.lines.Line2D at 0x101bfa5198>]"
      ]
     },
     "execution_count": 3,
     "metadata": {},
     "output_type": "execute_result"
    },
    {
     "data": {
      "image/png": "[encoded data removed]",
      "text/plain": [
       "<Figure size 576x432 with 1 Axes>"
      ]
     },
     "metadata": {
      "needs_background": "light"
     },
     "output_type": "display_data"
    }
   ],
   "source": [
    "A = np.array([[3, 1, 4, 1, 5], [2, 5, 11, 17, 23], [3, 7, 13, 19, 29]]).T\n",
    "B = np.array([[1, 2, 2, 2, 6], [1, 0, 1, 0, -3], [2.5, 6, 12, 18, 26]]).T\n",
    "v0 = np.array([1, 2, 3, 4, 5])\n",
    "n = 20\n",
    "v, err = altproj(A, B, v0, n)\n",
    "plt.figure(figsize=(8, 6))\n",
    "plt.semilogy(np.arange(1, n + 1), err)"
   ]
  },
  {
   "cell_type": "code",
   "execution_count": 4,
   "metadata": {
    "ExecuteTime": {
     "end_time": "2018-12-14T21:05:33.266591Z",
     "start_time": "2018-12-14T21:05:33.260299Z"
    }
   },
   "outputs": [],
   "source": [
    "def kaczmarz(A, b, I):\n",
    "    \"    \\\"\\\"\\\"\\n\",\n",
    "    \"    Arguments:\\n\",\n",
    "    \"        A {numpy.ndarray} -- matrix defines the LHS of linear equation\\n\",\n",
    "    \"        b {numpy.ndarray} -- vector defines the RHS of linear equation\\n\",\n",
    "    \"        I {int} -- number of full passes through the Kaczmarz algorithm\\n\",\n",
    "    \"    Returns:\\n\",\n",
    "    \"        X {numpy.ndarray} -- the output of all I full passes\\n\",\n",
    "    \"        err {numpy.ndarray} -- the error after each full pass\\n\",\n",
    "    \"    \\\"\\\"\\\"\\n\",\n",
    "    v0_hat=np.linalg.lstsq(A, b, rcond=None)[0]\n",
    "    m, n = A.shape\n",
    "    v, X, err = np.zeros(n), np.zeros((n, I)), np.zeros(I)\n",
    "    for i in tqdm(range(I * m), total=I * m, leave=False):\n",
    "        index=i%m\n",
    "        ai =A[index, :]\n",
    "        bi=b[index]\n",
    "        num=(np.dot(ai,v)-bi)/np.dot(ai,ai)\n",
    "        v=v-num*ai\n",
    "        v = v - ((np.dot(v, ai) - bi)/np.dot(ai, ai))*ai\n",
    "        if (i + 1) % m == 0:\n",
    "            err[i // m]=np.linalg.norm(v - v0_hat)\n",
    "            X[:, i // m] =v\n",
    "    return X, err\n"
   ]
  },
  {
   "cell_type": "code",
   "execution_count": 5,
   "metadata": {
    "ExecuteTime": {
     "end_time": "2018-12-14T21:05:46.610590Z",
     "start_time": "2018-12-14T21:05:46.369508Z"
    }
   },
   "outputs": [
    {
     "data": {
      "application/vnd.jupyter.widget-view+json": {
       "model_id": "",
       "version_major": 2,
       "version_minor": 0
      },
      "text/plain": [
       "HBox(children=(IntProgress(value=0, max=1000), HTML(value='')))"
      ]
     },
     "metadata": {},
     "output_type": "display_data"
    },
    {
     "name": "stdout",
     "output_type": "stream",
     "text": [
      "\r"
     ]
    },
    {
     "data": {
      "text/plain": [
       "[<matplotlib.lines.Line2D at 0x101c1e34a8>]"
      ]
     },
     "execution_count": 5,
     "metadata": {},
     "output_type": "execute_result"
    },
    {
     "data": {
      "image/png": "[encoded data removed]",
      "text/plain": [
       "<Figure size 576x432 with 1 Axes>"
      ]
     },
     "metadata": {
      "needs_background": "light"
     },
     "output_type": "display_data"
    }
   ],
   "source": [
    "A = np.array([[2, 5, 11, 17, 23], [3, 7, 13, 19, 29]])\n",
    "b = np.array([228, 277])\n",
    "I = 500\n",
    "X, err = kaczmarz(A, b, I)\n",
    "plt.figure(figsize=(8, 6))\n",
    "plt.semilogy(np.arange(1, I + 1), err)"
   ]
  },
  {
   "cell_type": "code",
   "execution_count": 6,
   "metadata": {
    "ExecuteTime": {
     "end_time": "2018-12-14T21:05:48.395346Z",
     "start_time": "2018-12-14T21:05:47.457288Z"
    }
   },
   "outputs": [
    {
     "data": {
      "application/vnd.jupyter.widget-view+json": {
       "model_id": "",
       "version_major": 2,
       "version_minor": 0
      },
      "text/plain": [
       "HBox(children=(IntProgress(value=0, max=50000), HTML(value='')))"
      ]
     },
     "metadata": {},
     "output_type": "display_data"
    },
    {
     "name": "stdout",
     "output_type": "stream",
     "text": [
      "\r"
     ]
    },
    {
     "data": {
      "text/plain": [
       "Text(0.5,1,'norm of difference between xhat and Kaczmarz is 1.22e-09')"
      ]
     },
     "execution_count": 6,
     "metadata": {},
     "output_type": "execute_result"
    },
    {
     "data": {
      "image/png": "[encoded data removed]",
      "text/plain": [
       "<Figure size 576x432 with 1 Axes>"
      ]
     },
     "metadata": {
      "needs_background": "light"
     },
     "output_type": "display_data"
    }
   ],
   "source": [
    "A = randn(500, 1000)\n",
    "b = A @ randn(1000)\n",
    "I = 100\n",
    "X, err = kaczmarz(A, b, I)\n",
    "plt.figure(figsize=(8, 6))\n",
    "plt.semilogy(np.arange(1, I + 1), err)\n",
    "#x_hat = np.dot(np.dot(A.T.conj(),inv(np.dot(A,A.T.conj()))),b)\n",
    "x_hat = (A.T) @np.linalg.inv((A @ (A.T))) @b\n",
    "plt.title(f'norm of difference between xhat and Kaczmarz is {np.linalg.norm(x_hat - X[:, -1]):.2e}')"
   ]
  },
  {
   "cell_type": "code",
   "execution_count": 20,
   "metadata": {
    "ExecuteTime": {
     "end_time": "2018-12-14T21:19:44.656282Z",
     "start_time": "2018-12-14T21:19:44.651553Z"
    }
   },
   "outputs": [],
   "source": [
    "def proj_HS(v, w, c):\n",
    "  \n",
    "    p = v if np.inner(v,w) >= c else v - ((np.dot(v, w)-c)/(np.power(np.linalg.norm(w),2)))*w\n",
    "    \n",
    "    return p\n",
    "    \n",
    "def proj_NB(v, a, v0):\n",
    " \n",
    "    p = v if np.inner(v- v0, v-v0) <= a else a*(v -v0)/np.linalg.norm(v - v0) + v0\n",
    "    return p"
   ]
  },
  {
   "cell_type": "code",
   "execution_count": 22,
   "metadata": {
    "ExecuteTime": {
     "end_time": "2018-12-14T21:20:34.391601Z",
     "start_time": "2018-12-14T21:20:34.384804Z"
    }
   },
   "outputs": [],
   "source": [
    "def lp_altproj(A, b, I):\n",
    "    \"    \\\"\\\"\\\"\\n\",\n",
    "    \"    Find a feasible solution for A v >= b using alternating projection\\n\",\n",
    "    \"    with every entry of v0 obeying Uniform[0,1]\\n\",\n",
    "    \"    Arguments:\\n\",\n",
    "    \"        A {numpy.ndarray} -- matrix defines the LHS of linear equation\\n\",\n",
    "    \"        b {numpy.ndarray} -- vector defines the RHS of linear equation\\n\",\n",
    "    \"        I {int} -- number of full passes through the alternating projection\\n\",\n",
    "    \"    Returns:\\n\",\n",
    "    \"        v {numpy.ndarray} -- the output after I full passes\\n\",\n",
    "    \"        err {numpy.ndarray} -- the error after each full pass\\n\",\n",
    "    \"    \\\"\\\"\\\"\\n\",\n",
    "    m, n = A.shape\n",
    "    \"    # Apply I sweeps of alternating projection\\n\",\n",
    "    v, err = np.zeros(n), np.zeros(I)\n",
    "    for t in tqdm(range(I * m), total=I*m, leave=False):\n",
    "        index=t%m\n",
    "        ai =A[index]\n",
    "        bi=b[index]\n",
    "        v = proj_HS(v, ai, bi)\n",
    "        if (t + 1) % m == 0:\n",
    "            MMax = (b - A @ v).max()\n",
    "            err[t // m] = MMax if MMax > 0 else 0\n",
    "    return v, err\n",
    "   "
   ]
  },
  {
   "cell_type": "code",
   "execution_count": 23,
   "metadata": {
    "ExecuteTime": {
     "end_time": "2018-12-14T21:20:36.518099Z",
     "start_time": "2018-12-14T21:20:36.116044Z"
    }
   },
   "outputs": [
    {
     "name": "stdout",
     "output_type": "stream",
     "text": [
      "     con: array([], dtype=float64)\n",
      "     fun: 1.8272050539280826e-12\n",
      " message: 'Optimization terminated successfully.'\n",
      "     nit: 5\n",
      "   slack: array([8.82960371e-13, 3.84137167e-13, 1.00000000e+00])\n",
      "  status: 0\n",
      " success: True\n",
      "       x: array([1.50428214e-12, 2.00000000e+00, 1.00000000e+00])\n"
     ]
    },
    {
     "data": {
      "application/vnd.jupyter.widget-view+json": {
       "model_id": "",
       "version_major": 2,
       "version_minor": 0
      },
      "text/plain": [
       "HBox(children=(IntProgress(value=0, max=3500), HTML(value='')))"
      ]
     },
     "metadata": {},
     "output_type": "display_data"
    },
    {
     "name": "stdout",
     "output_type": "stream",
     "text": [
      "\r",
      "False True\n"
     ]
    },
    {
     "data": {
      "text/plain": [
       "array([1.00000000e-06, 2.00000177e+00, 9.99999093e-01])"
      ]
     },
     "execution_count": 23,
     "metadata": {},
     "output_type": "execute_result"
    },
    {
     "data": {
      "image/png": "[encoded data removed]",
      "text/plain": [
       "<Figure size 576x432 with 1 Axes>"
      ]
     },
     "metadata": {
      "needs_background": "light"
     },
     "output_type": "display_data"
    }
   ],
   "source": [
    "c = np.array([3, -1, 2])\n",
    "A = np.array([[2, -1, 1], [1, 0, 2], [-7, 4, -6]])\n",
    "b = np.array([-1, 2, 1])\n",
    "res = linprog(c, A_ub=-A, b_ub=-b, bounds=[(0, None)] * c.size, method='interior-point')\n",
    "print(res)\n",
    "I = 500\n",
    "\"# Do not forget constraint xi >= 0\\n\",\n",
    "A1 =np.vstack((A,-1*c,[[1,0,0],[0,1,0],[0,0,1]]))\n",
    "b1 =np.hstack((b,[0,0,0,0]))\n",
    "x, err = lp_altproj(A1, b1 + 1e-6, I)\n",
    "plt.figure(figsize=(8, 6))\n",
    "plt.semilogy(np.arange(1, I + 1), err)\n",
    "print(np.all(A @ x - b > 0), np.all(x > 0))\n",
    "x"
   ]
  },
  {
   "cell_type": "code",
   "execution_count": 10,
   "metadata": {
    "ExecuteTime": {
     "end_time": "2018-12-14T21:06:07.091544Z",
     "start_time": "2018-12-14T21:05:59.405290Z"
    },
    "scrolled": false
   },
   "outputs": [
    {
     "data": {
      "application/vnd.jupyter.widget-view+json": {
       "model_id": "",
       "version_major": 2,
       "version_minor": 0
      },
      "text/plain": [
       "HBox(children=(IntProgress(value=0, max=1502000), HTML(value='')))"
      ]
     },
     "metadata": {},
     "output_type": "display_data"
    },
    {
     "name": "stdout",
     "output_type": "stream",
     "text": [
      "True True [-1000.000001]\n",
      "-1198.5327823524285\n"
     ]
    },
    {
     "data": {
      "image/png": "[encoded data removed]",
      "text/plain": [
       "<Figure size 576x432 with 1 Axes>"
      ]
     },
     "metadata": {
      "needs_background": "light"
     },
     "output_type": "display_data"
    }
   ],
   "source": [
    "np.random.seed(0)\n",
    "c = randn(1000)\n",
    "A = np.vstack([-np.ones((1, 1000)), randn(500, 1000)])\n",
    "b = np.concatenate([[-1000], A[1:] @ rand(1000)])\n",
    "I, ep = 1000, 1e-6\n",
    "\"# Do not forget constraint xi >= 0, and c^T x <= -1000\\n\",\n",
    "A1 = np.vstack((A,np.eye(A.shape[1]), -1 * c))\n",
    "b1 = np.hstack((b,np.zeros(A.shape[1]),np.array([1000])))\n",
    "x, err = lp_altproj(A1, b1 + ep, I)\n",
    "print(np.all(A @ x - b > 0), np.all(x > 0), c.reshape(1, -1) @ x)\n",
    "plt.figure(figsize=(8, 6))\n",
    "plt.semilogy(np.arange(1, I + 1), err)\n",
    "res = linprog(c, A_ub=-A, b_ub=-b, bounds=[(0, None)] * 1000, method='interior-point')\n",
    "print(res.fun)"
   ]
  },
  {
   "cell_type": "code",
   "execution_count": 11,
   "metadata": {
    "ExecuteTime": {
     "end_time": "2018-12-14T21:06:15.577624Z",
     "start_time": "2018-12-14T21:06:10.003591Z"
    }
   },
   "outputs": [
    {
     "data": {
      "text/html": [
       "<div>\n",
       "<style scoped>\n",
       "    .dataframe tbody tr th:only-of-type {\n",
       "        vertical-align: middle;\n",
       "    }\n",
       "\n",
       "    .dataframe tbody tr th {\n",
       "        vertical-align: top;\n",
       "    }\n",
       "\n",
       "    .dataframe thead th {\n",
       "        text-align: right;\n",
       "    }\n",
       "</style>\n",
       "<table border=\"1\" class=\"dataframe\">\n",
       "  <thead>\n",
       "    <tr style=\"text-align: right;\">\n",
       "      <th></th>\n",
       "      <th>feature</th>\n",
       "      <th>label</th>\n",
       "    </tr>\n",
       "  </thead>\n",
       "  <tbody>\n",
       "    <tr>\n",
       "      <th>0</th>\n",
       "      <td>[0, 0, 0, 0, 0, 0, 0, 0, 0, 0, 0, 0, 0, 0, 0, ...</td>\n",
       "      <td>1</td>\n",
       "    </tr>\n",
       "    <tr>\n",
       "      <th>1</th>\n",
       "      <td>[0, 0, 0, 0, 0, 0, 0, 0, 0, 0, 0, 0, 0, 0, 0, ...</td>\n",
       "      <td>0</td>\n",
       "    </tr>\n",
       "    <tr>\n",
       "      <th>2</th>\n",
       "      <td>[0, 0, 0, 0, 0, 0, 0, 0, 0, 0, 0, 0, 0, 0, 0, ...</td>\n",
       "      <td>1</td>\n",
       "    </tr>\n",
       "    <tr>\n",
       "      <th>3</th>\n",
       "      <td>[0, 0, 0, 0, 0, 0, 0, 0, 0, 0, 0, 0, 0, 0, 0, ...</td>\n",
       "      <td>4</td>\n",
       "    </tr>\n",
       "    <tr>\n",
       "      <th>4</th>\n",
       "      <td>[0, 0, 0, 0, 0, 0, 0, 0, 0, 0, 0, 0, 0, 0, 0, ...</td>\n",
       "      <td>0</td>\n",
       "    </tr>\n",
       "  </tbody>\n",
       "</table>\n",
       "</div>"
      ],
      "text/plain": [
       "                                             feature  label\n",
       "0  [0, 0, 0, 0, 0, 0, 0, 0, 0, 0, 0, 0, 0, 0, 0, ...      1\n",
       "1  [0, 0, 0, 0, 0, 0, 0, 0, 0, 0, 0, 0, 0, 0, 0, ...      0\n",
       "2  [0, 0, 0, 0, 0, 0, 0, 0, 0, 0, 0, 0, 0, 0, 0, ...      1\n",
       "3  [0, 0, 0, 0, 0, 0, 0, 0, 0, 0, 0, 0, 0, 0, 0, ...      4\n",
       "4  [0, 0, 0, 0, 0, 0, 0, 0, 0, 0, 0, 0, 0, 0, 0, ...      0"
      ]
     },
     "execution_count": 11,
     "metadata": {},
     "output_type": "execute_result"
    },
    {
     "data": {
      "image/png": "[encoded data removed]",
      "text/plain": [
       "<Figure size 1080x180 with 30 Axes>"
      ]
     },
     "metadata": {
      "needs_background": "light"
     },
     "output_type": "display_data"
    }
   ],
   "source": [
    "# read mnist csv file to a dataframe\n",
    "df = pd.read_csv('mnist_train.csv')\n",
    "# append feature column by merging all pixel columns\n",
    "df['feature'] = df.apply(lambda row: row.values[1:], axis=1)\n",
    "# only keep feature and label column\n",
    "df = df[['feature', 'label']]\n",
    "# display first 5 rows of the dataframe\n",
    "plt.figure(figsize=(15, 2.5))\n",
    "for i, row in df.iloc[:30].iterrows():\n",
    "    x, y = row['feature'], row['label']\n",
    "    plt.subplot(2, 15, i + 1)\n",
    "    plt.imshow(x.reshape(28, 28), cmap='gray')\n",
    "    plt.axis('off')\n",
    "    plt.title(y)\n",
    "df.head()\n",
    "\n"
   ]
  },
  {
   "cell_type": "code",
   "execution_count": 12,
   "metadata": {
    "ExecuteTime": {
     "end_time": "2018-12-14T21:06:15.773939Z",
     "start_time": "2018-12-14T21:06:15.768230Z"
    }
   },
   "outputs": [],
   "source": [
    "def extract_and_split(df, d, test_size=0.5):\n",
    "    target= df[df['label'] == d]\n",
    "    label=np.array(target['label'])\n",
    "    feature = np.array(target['feature'])\n",
    "    # split target to two part\n",
    "    split_size = math.floor(len(label)*test_size)\n",
    "    random_feature = np.random.permutation(feature)\n",
    "    y_tr = np.array([d]*split_size).T\n",
    "    tr_feature = random_feature[:split_size]\n",
    "    te_feature = random_feature[split_size:]\n",
    "    y_te = np.array([d]*(len(label)-split_size)).T\n",
    "    train_feature_arr = np.array(tr_feature)\n",
    "    test_feature_arr = np.array(te_feature)\n",
    "    #append -1\n",
    "    columns_tr = np.array([-1]*len(train_feature_arr)).T\n",
    "    columns_te = np.array([-1]*len(test_feature_arr)).T\n",
    "    X_tr = np.concatenate(train_feature_arr).reshape(len(train_feature_arr),784)\n",
    "    X_tr = np.insert(X_tr, 784, values=columns_tr, axis=1)\n",
    "    X_te = np.concatenate(test_feature_arr).reshape(len(test_feature_arr),784)\n",
    "    X_te = np.insert(X_te, 784, values=columns_te, axis=1)\n",
    "    return X_tr, X_te, y_tr, y_te\n",
    "\n",
    "def remove_outlier(x, thresh=3.5):\n",
    "    \n",
    "    if len(x.shape) == 1: x = x[:,None]\n",
    "    median = np.median(x, axis=0)\n",
    "    diff = np.sqrt(((x - median)**2).sum(axis=-1))\n",
    "    modified_z_score = 0.6745 * diff / np.median(diff)\n",
    "    x_filtered = x[modified_z_score <= thresh]\n",
    "    return x_filtered\n"
   ]
  },
  {
   "cell_type": "code",
   "execution_count": 13,
   "metadata": {
    "ExecuteTime": {
     "end_time": "2018-12-14T21:06:18.234308Z",
     "start_time": "2018-12-14T21:06:15.917298Z"
    }
   },
   "outputs": [
    {
     "data": {
      "application/vnd.jupyter.widget-view+json": {
       "model_id": "",
       "version_major": 2,
       "version_minor": 0
      },
      "text/plain": [
       "HBox(children=(IntProgress(value=0, max=440800), HTML(value='')))"
      ]
     },
     "metadata": {},
     "output_type": "display_data"
    },
    {
     "name": "stdout",
     "output_type": "stream",
     "text": [
      "\r",
      "Pairwise experiment, mapping 0 to -1, mapping 1 to 1\n",
      "training error = 0.00%, testing error = 0.00%\n",
      "Training set confusion matrix:\n",
      " [[2066    0]\n",
      " [   0 2342]]\n",
      "Testing set confusion matrix:\n",
      " [[2066    0]\n",
      " [   4 2338]]\n"
     ]
    },
    {
     "data": {
      "image/png": "[encoded data removed]",
      "text/plain": [
       "<Figure size 576x288 with 1 Axes>"
      ]
     },
     "metadata": {
      "needs_background": "light"
     },
     "output_type": "display_data"
    }
   ],
   "source": [
    "def mnist_pairwise_altproj(df, a, b, solver, test_size=0.5, verbose=False):\n",
    "   #find all samples labeled with digit a and split into train/test sets\n",
    "    Xa_tr, Xa_te, ya_tr, ya_te = extract_and_split(df, a, test_size)\n",
    "    # Find all samples labeled with digit b and split into train/test sets\n",
    "    Xb_tr, Xb_te, yb_tr, yb_te = extract_and_split(df, b, test_size)  \n",
    "    #set the lable for all training and testig sets\n",
    "    ya_tr = np.ones((ya_tr.shape[0],), dtype = np.int64)* -1\n",
    "    ya_te = np.ones((ya_te.shape[0],), dtype = np.int64)* -1\n",
    "    yb_tr = np.ones((yb_tr.shape[0],), dtype = np.int64)* 1\n",
    "    yb_te = np.ones((yb_te.shape[0],), dtype = np.int64)* 1\n",
    "    # Construct the full training set\n",
    "    X_tr = np.vstack((Xa_tr,Xb_tr))\n",
    "    y_tr = np.hstack((ya_tr,yb_tr)) \n",
    "    # Construct the full testing set\n",
    "    X_te = np.vstack((Xa_te,Xb_te))\n",
    "    y_te = np.hstack((ya_te,yb_te))\n",
    "    # Run solver on training set to get linear classifier\n",
    "    A_tilde = np.multiply(np.array([y_tr,]*X_tr.shape[1]).T, X_tr)\n",
    "    z_hat, err = solver(A_tilde, np.ones(A_tilde.shape[0]))\n",
    "    # Compute estimation and misclassification on training set\n",
    "    y_hat_tr = X_tr@ z_hat\n",
    "    err_tr = (np.sum(y_hat_tr[0 : ya_tr.size] > 0) + np.sum(y_hat_tr[ya_tr.size : ] < 0)) / y_hat_tr.size\n",
    "    # Compute estimation and misclassification on testing set\n",
    "    y_hat_te = np.matmul(X_te, z_hat)\n",
    "    err_te = (np.sum(y_hat_te[0 : ya_te.size] > 0) + np.sum(y_hat_tr[ya_te.size : ] < 0)) / y_hat_te.size\n",
    "    \n",
    "    if verbose:\n",
    "        print('Pairwise experiment, mapping {0} to -1, mapping {1} to 1'.format(a, b))\n",
    "        print('training error = {0:.2f}%, testing error = {1:.2f}%'.format(100 * err_tr, 100 * err_te))\n",
    "        \n",
    "        # Compute confusion matrix for training set\n",
    "        cm_tr = np.array([[np.sum(y_hat_tr[0 : ya_tr.size] < 0), np.sum(y_hat_tr[0 : ya_tr.size] > 0)],\n",
    "                       [ np.sum(y_hat_tr[ya_tr.size : ] < 0),np.sum(y_hat_tr[ya_tr.size : ] > 0) ]])\n",
    "        print('Training set confusion matrix:\\n {0}'.format(cm_tr))\n",
    "        \n",
    "        # Compute confusion matrix for testing set\n",
    "        cm_te = np.array([[np.sum(y_hat_te[0 : ya_te.size] < 0), np.sum(y_hat_te[0 : ya_te.size] > 0)],\n",
    "                       [ np.sum(y_hat_te[ya_te.size : ] < 0),np.sum(y_hat_te[ya_te.size : ] > 0) ]])\n",
    "        print('Testing set confusion matrix:\\n {0}'.format(cm_te))\n",
    "        # Compute the histogram of the function output separately for each class \n",
    "        # Then plot the two histograms together\n",
    "        ya_te_hat , yb_te_hat =np.split(y_hat_te,2)\n",
    "        output = [remove_outlier(ya_te_hat), remove_outlier(yb_te_hat)]\n",
    "        plt.figure(figsize=(8, 4))\n",
    "        plt.hist(output, bins=50)\n",
    "    \n",
    "    res = np.array([err_tr, err_te])\n",
    "    return z_hat, res\n",
    "\n",
    "solver = lambda A, b: lp_altproj(A, b + 1e-6, 100)\n",
    "z_hat, res = mnist_pairwise_altproj(df, 0, 1, solver, verbose=True)"
   ]
  },
  {
   "cell_type": "code",
   "execution_count": 14,
   "metadata": {
    "ExecuteTime": {
     "end_time": "2018-12-14T21:06:23.719737Z",
     "start_time": "2018-12-14T21:06:23.714652Z"
    }
   },
   "outputs": [],
   "source": [
    "def Confusion_matrix(Y_hat_te_clean_up, y_te):\n",
    "    # reverse one hot encoding to one result line:\n",
    "    Y_hat_te = np.zeros((Y_hat_te_clean_up.shape[0], 1))\n",
    "    for i in range(10):\n",
    "        Y_hat_te[ Y_hat_te_clean_up[:, i] ==1] = i\n",
    "    #crearte an empty matrix to hold the Confusion_matrix\n",
    "    lable_size = Y_hat_te_clean_up.shape[1]\n",
    "    cm = np.zeros((lable_size, lable_size))\n",
    "    y_te = np.array([y_te]).T\n",
    "    \n",
    "    #fill in the matrix    \n",
    "    for i in range(lable_size):\n",
    "        #find the index of those predicted to be i\n",
    "        predicted_i =  np.where(Y_hat_te ==i)[0]\n",
    "        for j in range(lable_size):\n",
    "            # find those predicted index's real lable and fill the table\n",
    "            cm[i][j] = sum(y_te[predicted_i] == j)\n",
    "    return cm.astype(int)"
   ]
  },
  {
   "cell_type": "code",
   "execution_count": 94,
   "metadata": {
    "ExecuteTime": {
     "end_time": "2018-12-13T06:36:06.485112Z",
     "start_time": "2018-12-13T06:32:37.959259Z"
    }
   },
   "outputs": [
    {
     "name": "stdout",
     "output_type": "stream",
     "text": [
      "(189873, 7850)\n",
      "(785,)\n"
     ]
    },
    {
     "data": {
      "application/vnd.jupyter.widget-view+json": {
       "model_id": "",
       "version_major": 2,
       "version_minor": 0
      },
      "text/plain": [
       "HBox(children=(IntProgress(value=0, max=21097), HTML(value='')))"
      ]
     },
     "metadata": {},
     "output_type": "display_data"
    },
    {
     "name": "stdout",
     "output_type": "stream",
     "text": [
      "\r"
     ]
    },
    {
     "data": {
      "application/vnd.jupyter.widget-view+json": {
       "model_id": "",
       "version_major": 2,
       "version_minor": 0
      },
      "text/plain": [
       "HBox(children=(IntProgress(value=0, max=18987300), HTML(value='')))"
      ]
     },
     "metadata": {},
     "output_type": "display_data"
    },
    {
     "name": "stdout",
     "output_type": "stream",
     "text": [
      "training error = 8.54%, testing error = 13.49%\n",
      "Training set confusion matrix:\n",
      " [[1996    0    1    1    0   11   29    1    9    2]\n",
      " [   0 2270    4    2    0    3    4    3    5    0]\n",
      " [   8   30 1948   42    2   14   39   17   29    1]\n",
      " [  13   11   44 2091    2  127    4   25   84   11]\n",
      " [   7    3   48    9 2023   52   91   37   33   95]\n",
      " [  13    1    9   25    2 1510   56    5   52    2]\n",
      " [   1    0    4    0    0    8 1843    1    3    0]\n",
      " [   1    0    7    4    1    1    0 1904    2    6]\n",
      " [   5   38   32   41    3   83   20   10 1748    9]\n",
      " [   8    9   14   31   37   51    0  189   64 1963]]\n",
      "Testing set confusion matrix:\n",
      " [[1975    2   14    4    2   40   28    4   16   11]\n",
      " [   0 2161   19    7    6    5    3    8   31    7]\n",
      " [  14   50 1783   59   12   23   62   27   54    4]\n",
      " [  24   19   80 1853    4  166    2   31   89   33]\n",
      " [   9    5   33    5 1855   58  101   56   40  147]\n",
      " [  25    6   19   65    1 1416   68    2   92    9]\n",
      " [   6    1   14    7   10   20 1757    1    8    0]\n",
      " [   4    3   30   14    7    9    1 1834    5   44]\n",
      " [  14   66   49   45   13  117   27   17 1613    7]\n",
      " [   9    9   25   46   92   81    2  229   86 1837]]\n"
     ]
    }
   ],
   "source": [
    "def mnist_multiclass_altproj(df, solver, test_size=0.5):\n",
    "    \"\"\"\n",
    "    Experiment for applying least-square to classify all digits using one-hot encoding\n",
    "    Arguments:\n",
    "        df {dataframe} -- the dataframe of MNIST dataset\n",
    "        solver {function} -- function to compute linear classifier\n",
    "        test_size {float} -- the fraction of testing set, default value is 0.5\n",
    "    Returns:\n",
    "        Z {numpy.ndarray} -- coefficients for linear classifier\n",
    "        res {numpy.ndarray} -- numpy.array([traing error, testing error])\n",
    "    \"\"\"\n",
    "    # Split into training/testing set\n",
    "    msk = np.random.rand(len(df)) < test_size\n",
    "    tr, te = df[~msk], df[msk]\n",
    "    \n",
    "    # Construct the training set\n",
    "    X_tr = np.concatenate(tr.loc[: ,'feature'].values).reshape(tr.shape[0], 784)\n",
    "    #add in a colum of -1's\n",
    "    last_column = np.array([np.ones((tr.shape[0],), dtype = np.int64)*-1]).T\n",
    "    X_tr = np.hstack((X_tr,last_column)) \n",
    "    #constrcut the lable of training set\n",
    "    y_tr = tr.loc[: ,'label'].values\n",
    "    \n",
    "    # Construct the testing set\n",
    "    X_te = np.concatenate(te.loc[: ,'feature'].values).reshape(te.shape[0], 784)\n",
    "    #add in a colum of -1's\n",
    "    last_column = np.array([np.ones((te.shape[0],), dtype = np.int64)*-1]).T\n",
    "    X_te = np.hstack((X_te,last_column))  \n",
    "    #constrcut the lable of testing set\n",
    "    y_te = te.loc[: ,'label'].values\n",
    "    \n",
    "    #above implimation come from pj2\n",
    "    Y_tr_Hot = np.zeros((tr.shape[0], 10))\n",
    "    Y_te_Hot = np.zeros((te.shape[0], 10))\n",
    "    # then fill in the one-hot encoding if the # = i the i location is 1\n",
    "    for i in range(10):\n",
    "        Y_tr_Hot[y_tr == i,i] = 1\n",
    "        Y_te_Hot[y_te == i,i] = 1\n",
    "    \n",
    "    # Run solver on training set to get linear classifier\n",
    "    A_tilde = np.zeros(((10-1)*X_tr.shape[0], 10*X_tr.shape[1]))\n",
    "    for i in tqdm(range( X_tr.shape[0] ), total = X_tr.shape[0], leave = False):\n",
    "        xi = X_tr[i,:]*-1\n",
    "        temp = 0\n",
    "        for j in range (10):\n",
    "            if j == y_tr[i]:\n",
    "                continue\n",
    "            else:\n",
    "                A_tilde[i*9+temp, j*785 : (j+1)*785] = xi\n",
    "                A_tilde[i*9+temp, y_tr[i]*785 : (y_tr[i]+1)*785] = X_tr[i,:]\n",
    "                temp +=1\n",
    "    b_tilde = np.zeros(A_tilde.shape[0])\n",
    "    \n",
    "    Z, err = solver(A_tilde, b_tilde)\n",
    "    # Reshape Z as a 785 x 10 matrix\n",
    "    Z = np.reshape(Z, (10,785)).T\n",
    "    \n",
    "    # Compute estimation and misclassification on training set\n",
    "    y_hat_tr = np.matmul(X_tr,Z)\n",
    "    #find the lable of the prediction \n",
    "    maxlocation_tr = np.argmax(y_hat_tr,axis=1) \n",
    "    # Y_hat_tr_clean_up cahnge the predicted able to 1 \n",
    "    Y_hat_tr_clean_up = np.zeros((tr.shape[0], 10))\n",
    "    for i in range(10):\n",
    "        Y_hat_tr_clean_up[maxlocation_tr ==i, i] = 1\n",
    "    # err_tr = 1 -  (correct hit/ all prediction)\n",
    "    err_tr = 1- sum(np.all(Y_hat_tr_clean_up == Y_tr_Hot, axis=1))/len(Y_tr_Hot)\n",
    "    \n",
    "    # Compute estimation and misclassification on training set\n",
    "    # Calculate the estimation on testing set\n",
    "    y_hat_te = np.matmul(X_te,Z)\n",
    "    #find the lable of the prediction \n",
    "    maxlocation_te = np.argmax(y_hat_te,axis=1) \n",
    "    # Y_hat_tr_clean_up cahnge the predicted able to 1 \n",
    "    Y_hat_te_clean_up = np.zeros((te.shape[0], 10))\n",
    "    for i in range(10):\n",
    "        Y_hat_te_clean_up[maxlocation_te ==i, i] = 1\n",
    "    err_te = 1- sum(np.all(Y_hat_te_clean_up == Y_te_Hot, axis=1))/len(Y_te_Hot)\n",
    "    \n",
    "    print('training error = {0:.2f}%, testing error = {1:.2f}%'.format(100 * err_tr, 100 * err_te))\n",
    "    # Compute confusion matrix for training set\n",
    "    cm_tr = Confusion_matrix(Y_hat_tr_clean_up, y_tr)\n",
    "    print('Training set confusion matrix:\\n {0}'.format(cm_tr))\n",
    "    # Compute confusion matrix for testing set\n",
    "    cm_te = Confusion_matrix(Y_hat_te_clean_up, y_te)\n",
    "    print('Testing set confusion matrix:\\n {0}'.format(cm_te))\n",
    "    \n",
    "    res = np.array([err_tr, err_te])\n",
    "    return Z, res\n",
    "solver = lambda A, b: lp_altproj(A, b + 1e-6, 100)\n",
    "Z, res = mnist_multiclass_altproj(df, solver)"
   ]
  },
  {
   "cell_type": "code",
   "execution_count": 21,
   "metadata": {
    "ExecuteTime": {
     "end_time": "2018-12-14T21:19:49.716940Z",
     "start_time": "2018-12-14T21:19:49.231361Z"
    }
   },
   "outputs": [
    {
     "name": "stdout",
     "output_type": "stream",
     "text": [
      "v [1. 0.]\n",
      "w [[0. 2.]\n",
      " [0. 0.]]\n",
      "v [0.75592895 0.21137173]\n",
      "w [[ 0.          2.        ]\n",
      " [-0.24407105  0.21137173]]\n",
      "v [0.75592895 0.        ]\n",
      "w [[ 0.          1.78862827]\n",
      " [-0.24407105  0.21137173]]\n",
      "v [0.68029028 0.13308261]\n",
      "w [[ 0.          1.78862827]\n",
      " [-0.31970972  0.34445434]]\n",
      "v [0.68029028 0.        ]\n",
      "w [[ 0.          1.65554566]\n",
      " [-0.31970972  0.34445434]]\n",
      "v [0.63689601 0.09507568]\n",
      "w [[ 0.          1.65554566]\n",
      " [-0.36310399  0.43953002]]\n",
      "v [0.63689601 0.        ]\n",
      "w [[ 0.          1.56046998]\n",
      " [-0.36310399  0.43953002]]\n",
      "v [0.60807692 0.07214729]\n",
      "w [[ 0.          1.56046998]\n",
      " [-0.39192308  0.51167731]]\n",
      "v [0.60807692 0.        ]\n",
      "w [[ 0.          1.48832269]\n",
      " [-0.39192308  0.51167731]]\n",
      "v [0.58741625 0.05674044]\n",
      "w [[ 0.          1.48832269]\n",
      " [-0.41258375  0.56841775]]\n",
      "v [0.58741625 0.        ]\n",
      "w [[ 0.          1.43158225]\n",
      " [-0.41258375  0.56841775]]\n",
      "v [0.57188372 0.04569071]\n",
      "w [[ 0.          1.43158225]\n",
      " [-0.42811628  0.61410846]]\n",
      "v [0.57188372 0.        ]\n",
      "w [[ 0.          1.38589154]\n",
      " [-0.42811628  0.61410846]]\n",
      "v [0.55982265 0.03741295]\n",
      "w [[ 0.          1.38589154]\n",
      " [-0.44017735  0.65152141]]\n",
      "v [0.55982265 0.        ]\n",
      "w [[ 0.          1.34847859]\n",
      " [-0.44017735  0.65152141]]\n",
      "v [0.55023614 0.03101631]\n",
      "w [[ 0.          1.34847859]\n",
      " [-0.44976386  0.68253772]]\n",
      "v [0.55023614 0.        ]\n",
      "w [[ 0.          1.31746228]\n",
      " [-0.44976386  0.68253772]]\n",
      "v [0.54248191 0.02595792]\n",
      "w [[ 0.          1.31746228]\n",
      " [-0.45751809  0.70849564]]\n",
      "v [0.54248191 0.        ]\n",
      "w [[ 0.          1.29150436]\n",
      " [-0.45751809  0.70849564]]\n",
      "v [0.53612433 0.02188637]\n",
      "w [[ 0.          1.29150436]\n",
      " [-0.46387567  0.73038201]]\n",
      "v [0.53612433 0.        ]\n",
      "w [[ 0.          1.26961799]\n",
      " [-0.46387567  0.73038201]]\n",
      "v [0.53085581 0.01856325]\n",
      "w [[ 0.          1.26961799]\n",
      " [-0.46914419  0.74894526]]\n",
      "v [0.53085581 0.        ]\n",
      "w [[ 0.          1.25105474]\n",
      " [-0.46914419  0.74894526]]\n",
      "v [0.52645214 0.01582064]\n",
      "w [[ 0.          1.25105474]\n",
      " [-0.47354786  0.7647659 ]]\n",
      "v [0.52645214 0.        ]\n",
      "w [[ 0.          1.2352341 ]\n",
      " [-0.47354786  0.7647659 ]]\n",
      "v [0.52274549 0.01353661]\n",
      "w [[ 0.          1.2352341 ]\n",
      " [-0.47725451  0.7783025 ]]\n",
      "v [0.52274549 0.        ]\n",
      "w [[ 0.          1.2216975 ]\n",
      " [-0.47725451  0.7783025 ]]\n",
      "v [0.51960749 0.01162031]\n",
      "w [[ 0.          1.2216975 ]\n",
      " [-0.48039251  0.78992281]]\n",
      "v [0.51960749 0.        ]\n",
      "w [[ 0.          1.21007719]\n",
      " [-0.48039251  0.78992281]]\n",
      "v [0.51693812 0.01000264]\n",
      "w [[ 0.          1.21007719]\n",
      " [-0.48306188  0.79992545]]\n",
      "v [0.51693812 0.        ]\n",
      "w [[ 0.          1.20007455]\n",
      " [-0.48306188  0.79992545]]\n",
      "v [0.51465827 0.00863001]\n",
      "w [[ 0.          1.20007455]\n",
      " [-0.48534173  0.80855546]]\n",
      "v [0.51465827 0.        ]\n",
      "w [[ 0.          1.19144454]\n",
      " [-0.48534173  0.80855546]]\n",
      "v [0.5127045  0.00746026]\n",
      "w [[ 0.          1.19144454]\n",
      " [-0.4872955   0.81601573]]\n",
      "v [0.5127045 0.       ]\n",
      "w [[ 0.          1.18398427]\n",
      " [-0.4872955   0.81601573]]\n",
      "v [0.51102534 0.00645976]\n",
      "w [[ 0.          1.18398427]\n",
      " [-0.48897466  0.82247549]]\n",
      "v [0.51102534 0.        ]\n",
      "w [[ 0.          1.17752451]\n",
      " [-0.48897466  0.82247549]]\n",
      "v [0.50957868 0.00560134]\n",
      "w [[ 0.          1.17752451]\n",
      " [-0.49042132  0.82807683]]\n",
      "v [0.50957868 0.        ]\n",
      "w [[ 0.          1.17192317]\n",
      " [-0.49042132  0.82807683]]\n",
      "v [0.50832973 0.00486288]\n",
      "w [[ 0.          1.17192317]\n",
      " [-0.49167027  0.83293971]]\n",
      "v [0.50832973 0.        ]\n",
      "w [[ 0.          1.16706029]\n",
      " [-0.49167027  0.83293971]]\n",
      "v [0.50724952 0.00422617]\n",
      "w [[ 0.          1.16706029]\n",
      " [-0.49275048  0.83716588]]\n",
      "v [0.50724952 0.        ]\n",
      "w [[ 0.          1.16283412]\n",
      " [-0.49275048  0.83716588]]\n",
      "v [0.50631383 0.00367611]\n",
      "w [[ 0.          1.16283412]\n",
      " [-0.49368617  0.84084198]]\n",
      "v [0.50631383 0.        ]\n",
      "w [[ 0.          1.15915802]\n",
      " [-0.49368617  0.84084198]]\n",
      "v [0.50550224 0.00320011]\n",
      "w [[ 0.          1.15915802]\n",
      " [-0.49449776  0.8440421 ]]\n",
      "v [0.50550224 0.        ]\n",
      "w [[ 0.          1.1559579 ]\n",
      " [-0.49449776  0.8440421 ]]\n",
      "v [0.5047975  0.00278761]\n",
      "w [[ 0.          1.1559579 ]\n",
      " [-0.4952025   0.84682971]]\n",
      "v [0.5047975 0.       ]\n",
      "w [[ 0.          1.15317029]\n",
      " [-0.4952025   0.84682971]]\n",
      "v [0.50418492 0.00242969]\n",
      "w [[ 0.          1.15317029]\n",
      " [-0.49581508  0.84925939]]\n",
      "v [0.50418492 0.        ]\n",
      "w [[ 0.          1.15074061]\n",
      " [-0.49581508  0.84925939]]\n",
      "v [0.503652   0.00211878]\n",
      "w [[ 0.          1.15074061]\n",
      " [-0.496348    0.85137817]]\n",
      "v [0.503652 0.      ]\n",
      "w [[ 0.          1.14862183]\n",
      " [-0.496348    0.85137817]]\n",
      "v [0.50318804 0.00184846]\n",
      "w [[ 0.          1.14862183]\n",
      " [-0.49681196  0.85322663]]\n",
      "v [0.50318804 0.        ]\n",
      "w [[ 0.          1.14677337]\n",
      " [-0.49681196  0.85322663]]\n",
      "v [0.50278386 0.00161324]\n",
      "w [[ 0.          1.14677337]\n",
      " [-0.49721614  0.85483987]]\n",
      "v [0.50278386 0.        ]\n",
      "w [[ 0.          1.14516013]\n",
      " [-0.49721614  0.85483987]]\n",
      "v [0.50243154 0.00140841]\n",
      "w [[ 0.          1.14516013]\n",
      " [-0.49756846  0.85624828]]\n",
      "v [0.50243154 0.        ]\n",
      "w [[ 0.          1.14375172]\n",
      " [-0.49756846  0.85624828]]\n",
      "v [0.5021243  0.00122994]\n",
      "w [[ 0.          1.14375172]\n",
      " [-0.4978757   0.85747822]]\n",
      "v [0.5021243 0.       ]\n",
      "w [[ 0.          1.14252178]\n",
      " [-0.4978757   0.85747822]]\n",
      "v [0.50185624 0.00107436]\n",
      "w [[ 0.          1.14252178]\n",
      " [-0.49814376  0.85855258]]\n",
      "v [0.50185624 0.        ]\n",
      "w [[ 0.          1.14144742]\n",
      " [-0.49814376  0.85855258]]\n",
      "v [0.50162229 0.00093866]\n",
      "w [[ 0.          1.14144742]\n",
      " [-0.49837771  0.85949123]]\n",
      "v [0.50162229 0.        ]\n",
      "w [[ 0.          1.14050877]\n",
      " [-0.49837771  0.85949123]]\n",
      "v [0.50141803 0.00082025]\n",
      "w [[ 0.          1.14050877]\n",
      " [-0.49858197  0.86031148]]\n",
      "v [0.50141803 0.        ]\n",
      "w [[ 0.          1.13968852]\n",
      " [-0.49858197  0.86031148]]\n",
      "v [0.50123966 0.0007169 ]\n",
      "w [[ 0.          1.13968852]\n",
      " [-0.49876034  0.86102838]]\n",
      "v [0.50123966 0.        ]\n",
      "w [[ 0.          1.13897162]\n",
      " [-0.49876034  0.86102838]]\n",
      "v [0.50108384 0.00062666]\n",
      "w [[ 0.          1.13897162]\n",
      " [-0.49891616  0.86165504]]\n",
      "v [0.50108384 0.        ]\n",
      "w [[ 0.          1.13834496]\n",
      " [-0.49891616  0.86165504]]\n",
      "v [0.50094771 0.00054785]\n",
      "w [[ 0.          1.13834496]\n",
      " [-0.49905229  0.86220289]]\n",
      "v [0.50094771 0.        ]\n",
      "w [[ 0.          1.13779711]\n",
      " [-0.49905229  0.86220289]]\n",
      "v [5.00828741e-01 4.79002894e-04]\n",
      "w [[ 0.          1.13779711]\n",
      " [-0.49917126  0.86268189]]\n",
      "v [0.50082874 0.        ]\n",
      "w [[ 0.          1.13731811]\n",
      " [-0.49917126  0.86268189]]\n",
      "v [5.00724765e-01 4.18848049e-04]\n",
      "w [[ 0.          1.13731811]\n",
      " [-0.49927523  0.86310074]]\n",
      "v [0.50072477 0.        ]\n",
      "w [[ 0.          1.13689926]\n",
      " [-0.49927523  0.86310074]]\n",
      "v [5.00633877e-01 3.66278354e-04]\n",
      "w [[ 0.          1.13689926]\n",
      " [-0.49936612  0.86346702]]\n",
      "v [0.50063388 0.        ]\n",
      "w [[ 0.          1.13653298]\n",
      " [-0.49936612  0.86346702]]\n"
     ]
    },
    {
     "data": {
      "text/plain": [
       "Text(0.5,1,'Zoom-in trajectories')"
      ]
     },
     "execution_count": 21,
     "metadata": {},
     "output_type": "execute_result"
    },
    {
     "data": {
      "image/png": "[encoded data removed]",
      "text/plain": [
       "<Figure size 1080x504 with 2 Axes>"
      ]
     },
     "metadata": {
      "needs_background": "light"
     },
     "output_type": "display_data"
    }
   ],
   "source": [
    "P_C1 = np.array([0,1])\n",
    "P_C2 = np.array([0,np.sqrt(3)/2])\n",
    "P = [P_C1, P_C2]\n",
    "\n",
    "# Alternating Projection P_{C_2}(P_{C_1}(u))\n",
    "us1 = [np.array([1.0, -2.0]), np.array([1.0, -2.0])]\n",
    "while True:\n",
    "    uk = proj_HS(us1[-2],P_C1,0)\n",
    "    u = proj_NB(uk,1,P_C2)\n",
    "    if np.linalg.norm(us1[-2] - u) >= 1e-4:\n",
    "        us1.append(u)\n",
    "    else:\n",
    "        break\n",
    "# Alternating Projection P_{C_1}(P_{C_2}(u))\n",
    "us2 = [np.array([1.0, -2.0]), np.array([1.0, -2.0])]\n",
    "while True:\n",
    "    um = proj_NB(us2[-2],1,P_C2)\n",
    "    u = proj_HS(um,P_C1,0)\n",
    "    if np.linalg.norm(us2[-2] - u) >= 1e-4:\n",
    "        us2.append(u)\n",
    "    else:\n",
    "        break\n",
    "# Dykstra's Algorithm\n",
    "vs, w = [np.array([1.0, -2.0]), np.array([1.0, -2.0])], np.zeros((2, 2))\n",
    "while True:\n",
    "    \n",
    "    v = proj_HS(vs[-1]-w[0],P_C1,0) if len(vs)%2 == 0 else proj_NB(vs[-1]-w[1],1,P_C2)\n",
    "    print('v',v)\n",
    "    if len(vs)%2 == 0:\n",
    "        w[0] = v-vs[-1]+w[0]\n",
    "    else:\n",
    "        w[1] = v-vs[-1]+w[1]\n",
    "    print('w',w)                          \n",
    "    if np.linalg.norm(vs[-2] - v) >= 1e-4:\n",
    "        vs.append(v)\n",
    "    else:\n",
    "        break\n",
    "\n",
    "plt.figure(figsize=(15, 7))\n",
    "plt.subplot(1, 2, 1)\n",
    "# Plot half space part\n",
    "x, y = np.linspace(-0.5, 0.5, 101), np.zeros(101)\n",
    "plt.plot(x, y, color='yellow', linewidth=2)\n",
    "# Plot unit ball part\n",
    "x = np.linspace(-1, 1, 101)\n",
    "y = np.sqrt(3)/2 + np.sqrt(1 - x**2)\n",
    "plt.plot(x, y, color='yellow', linewidth=2)\n",
    "x = np.linspace(-1, -0.5, 101)\n",
    "y = np.sqrt(3)/2 - np.sqrt(1 - x**2)\n",
    "plt.plot(x, y, color='yellow', linewidth=2)\n",
    "x = np.linspace(0.5, 1, 101)\n",
    "y = np.linspace(0.5, 1, 101)\n",
    "plt.plot(x, np.sqrt(3)/2 - np.sqrt(1 - y**2), color='yellow', linewidth=2)\n",
    "plt.scatter(*np.array(us1).T, c='red', marker='+', alpha=0.5, label=r'$P_{C_2}(P_{C_1}(u))$')\n",
    "plt.scatter(*np.array(us2).T, c='blue', marker='x', alpha=0.5, label=r'$P_{C_1}(P_{C_2}(u))$')\n",
    "plt.scatter(*np.array(vs).T, c='green', marker='1', alpha=0.5, label='Dykstra')\n",
    "plt.axis('equal')\n",
    "plt.legend()\n",
    "plt.title('Trajectories of different methods')\n",
    "\n",
    "plt.subplot(1, 2, 2)\n",
    "# Plot half space part\n",
    "x, y = np.linspace(-0.5, 0.5, 101), np.zeros(101)\n",
    "plt.plot(x, y, color='yellow', linewidth=2)\n",
    "# Plot unit ball part\n",
    "x = np.linspace(-1, 1, 101)\n",
    "y = np.sqrt(3)/2 + np.sqrt(1 - x**2)\n",
    "plt.plot(x, y, color='yellow', linewidth=2)\n",
    "x = np.linspace(-1, -0.5, 101)\n",
    "y = np.sqrt(3)/2 - np.sqrt(1 - x**2)\n",
    "plt.plot(x, y, color='yellow', linewidth=2)\n",
    "x = np.linspace(0.5, 1, 101)\n",
    "y = np.linspace(0.5, 1, 101)\n",
    "plt.plot(x, np.sqrt(3)/2 - np.sqrt(1 - y**2), color='yellow', linewidth=2)\n",
    "size = 300 * np.linspace(0.2, 1, len(us1))\n",
    "plt.scatter(*np.array(us1).T, c='red', marker='+', s=size, alpha=0.5, label=r'$P_{C_2}(P_{C_1}(u))$')\n",
    "plt.scatter(us1[-1][0], us1[-1][1], s=300, facecolors='none', edgecolors='red', linewidth=2)\n",
    "size = 300 * np.linspace(0.2, 1, len(us2))\n",
    "plt.scatter(*np.array(us2).T, c='blue', marker='x', s=size, alpha=0.5, label=r'$P_{C_1}(P_{C_2}(u))$')\n",
    "plt.scatter(us2[-1][0], us2[-1][1], s=300, facecolors='none', edgecolors='blue', linewidth=2)\n",
    "size = 300 * np.linspace(0.2, 1, len(vs))\n",
    "plt.scatter(*np.array(vs).T, c='green', marker='1', s=size, alpha=0.5, label='Dykstra')\n",
    "plt.scatter(vs[-1][0], vs[-1][1], s=300, facecolors='none', edgecolors='green', linewidth=2)\n",
    "plt.xlim([0.25, 1.05])\n",
    "plt.ylim([-0.35, 0.45])\n",
    "plt.legend()\n",
    "plt.title('Zoom-in trajectories')"
   ]
  },
  {
   "cell_type": "code",
   "execution_count": null,
   "metadata": {},
   "outputs": [],
   "source": []
  }
 ],
 "metadata": {
  "kernelspec": {
   "display_name": "Python 3",
   "language": "python",
   "name": "python3"
  },
  "language_info": {
   "codemirror_mode": {
    "name": "ipython",
    "version": 3
   },
   "file_extension": ".py",
   "mimetype": "text/x-python",
   "name": "python",
   "nbconvert_exporter": "python",
   "pygments_lexer": "ipython3",
   "version": "3.7.2"
  },
  "varInspector": {
   "cols": {
    "lenName": 16,
    "lenType": 16,
    "lenVar": 40
   },
   "kernels_config": {
    "python": {
     "delete_cmd_postfix": "",
     "delete_cmd_prefix": "del ",
     "library": "var_list.py",
     "varRefreshCmd": "print(var_dic_list())"
    },
    "r": {
     "delete_cmd_postfix": ") ",
     "delete_cmd_prefix": "rm(",
     "library": "var_list.r",
     "varRefreshCmd": "cat(var_dic_list()) "
    }
   },
   "types_to_exclude": [
    "module",
    "function",
    "builtin_function_or_method",
    "instance",
    "_Feature"
   ],
   "window_display": false
  }
 },
 "nbformat": 4,
 "nbformat_minor": 2
}
